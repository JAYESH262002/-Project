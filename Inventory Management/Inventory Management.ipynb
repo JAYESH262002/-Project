{
 "cells": [
  {
   "cell_type": "raw",
   "id": "7460e4fa",
   "metadata": {},
   "source": []
  },
  {
   "cell_type": "markdown",
   "id": "4e573add",
   "metadata": {},
   "source": [
    "### <div class='alert alert-info'>Product </div>\n",
    "#### 1.Product ID\n",
    "\n",
    "#### 2.Product Name\n",
    "\n",
    "#### 3.Product Price\n",
    "\n",
    "#### 4.Product Quantity"
   ]
  },
  {
   "cell_type": "raw",
   "id": "e1cc8654",
   "metadata": {},
   "source": [
    "Reading the Inventory"
   ]
  },
  {
   "cell_type": "code",
   "execution_count": 1,
   "id": "bb9e647e",
   "metadata": {},
   "outputs": [
    {
     "data": {
      "text/plain": [
       "'1,Choco Bar,5,100\\n2,Parle G,5,211\\n3,Chota Bheem,10,69\\n4,Xyz,20,41'"
      ]
     },
     "execution_count": 1,
     "metadata": {},
     "output_type": "execute_result"
    }
   ],
   "source": [
    "file = open(\"Inventory.txt\")\n",
    "txt = file.read()\n",
    "txt"
   ]
  },
  {
   "cell_type": "raw",
   "id": "74b48ef1",
   "metadata": {},
   "source": [
    "Converting the csv type data into list with the help of split()"
   ]
  },
  {
   "cell_type": "code",
   "execution_count": 2,
   "id": "6d36cfec",
   "metadata": {},
   "outputs": [
    {
     "data": {
      "text/plain": [
       "['1,Choco Bar,5,100', '2,Parle G,5,211', '3,Chota Bheem,10,69', '4,Xyz,20,41']"
      ]
     },
     "execution_count": 2,
     "metadata": {},
     "output_type": "execute_result"
    }
   ],
   "source": [
    "product = txt.split(\"\\n\")\n",
    "product"
   ]
  },
  {
   "cell_type": "raw",
   "id": "d234ac86",
   "metadata": {},
   "source": [
    "Printing all the data from the list"
   ]
  },
  {
   "cell_type": "code",
   "execution_count": 3,
   "id": "a9e4e0c0",
   "metadata": {
    "scrolled": true
   },
   "outputs": [
    {
     "name": "stdout",
     "output_type": "stream",
     "text": [
      "1,Choco Bar,5,100\n",
      "2,Parle G,5,211\n",
      "3,Chota Bheem,10,69\n",
      "4,Xyz,20,41\n"
     ]
    }
   ],
   "source": [
    "for i in product:\n",
    "    print(i)"
   ]
  },
  {
   "cell_type": "raw",
   "id": "44f24568",
   "metadata": {},
   "source": [
    "Saving the list data into the txt file\n",
    "\n",
    "Reading the Inventory"
   ]
  },
  {
   "cell_type": "code",
   "execution_count": 4,
   "id": "07cb04e1",
   "metadata": {},
   "outputs": [],
   "source": [
    "file = open('Inventory.txt','r')\n",
    "products = file.read().split('\\n')\n",
    "file.close()"
   ]
  },
  {
   "cell_type": "code",
   "execution_count": 6,
   "id": "01439cb2",
   "metadata": {},
   "outputs": [
    {
     "name": "stdout",
     "output_type": "stream",
     "text": [
      "Enter your name: Jayesh Raghuvanshi\n",
      "Enter your Phone No.: 904759834\n",
      "Enter your mail id: BHoleBHole@gmail.com\n",
      "Enter product ID: 1\n",
      "Enter product Quantity: 12\n",
      "-----------------------------\n",
      "Product Name     :  Choco Bar\n",
      "Price            :  5\n",
      "Quantity         :  12\n",
      "-----------------------------\n",
      "Billing Amount   :  60\n",
      "-----------------------------\n",
      "Inventory Updated\n"
     ]
    }
   ],
   "source": [
    "file = open('Inventory.txt','r')  \n",
    "products = file.read().split('\\n')\n",
    "file.close()\n",
    "\n",
    "import time\n",
    "\n",
    "# Taling User Input\n",
    "username = input(\"Enter your name: \")\n",
    "phone    = input(\"Enter your Phone No.: \")\n",
    "mail     = input(\"Enter your mail id: \")\n",
    "ID       = input(\"Enter product ID: \")\n",
    "Sell     = input(\"Enter product Quantity: \")\n",
    "\n",
    "updated_product_lst = []\n",
    "\n",
    "# Going through each product detail\n",
    "for product in products:\n",
    "    \n",
    "    prod_details = product.split(',')\n",
    "    \n",
    "    if(prod_details[0] == ID):\n",
    "    # Checking if product exists or not\n",
    "\n",
    "        if (int(Sell) <= int(prod_details[3])):\n",
    "        # If we're having enough quantity\n",
    "        \n",
    "            print(\"-----------------------------\")\n",
    "            print(\"Product Name     : \", prod_details[1])\n",
    "            print(\"Price            : \", prod_details[2]) \n",
    "            print(\"Quantity         : \", Sell) \n",
    "            print(\"-----------------------------\")\n",
    "            print(\"Billing Amount   : \", int(Sell) * int(prod_details[2]))\n",
    "            print(\"-----------------------------\")\n",
    "\n",
    "            prod_details[3] = str(int(prod_details[3]) - int(Sell))\n",
    "            \n",
    "            #Generarting Sales in Sales.txt\n",
    "            file = open(\"Sales.txt\",'a')\n",
    "            sales_details = username+\",\"+phone+\",\"+mail+\",\"+prod_details[1]+\",\"+Sell+\",\"+str(int(Sell) * int(prod_details[2]))+\",\"+time.ctime()+\"\\n\"\n",
    "            file.write(sales_details)\n",
    "            file.close()\n",
    "            \n",
    "        else:\n",
    "        # If we're not having enough quantity\n",
    "        \n",
    "            print(\"Sorry, We're not having enought quantity.\")\n",
    "            print(\"We're having only\",prod_details[3],'quantity.')\n",
    "            print(\"Would you like to purchase it?\")\n",
    "            \n",
    "            ch = input(\"Press Y/N: \")\n",
    "            \n",
    "            if (ch == 'Y' or ch == 'y'):\n",
    "            # If you want to purchase with remaining quantity\n",
    "            \n",
    "                print(\"-----------------------------\")\n",
    "                print(\"Product Name     : \", prod_details[1])\n",
    "                print(\"Price            : \", prod_details[2]) \n",
    "                print(\"Quantity         : \", prod_details[3]) \n",
    "                print(\"-----------------------------\")\n",
    "                print(\"Billing Amount '(-_-)'  : \", int(prod_details[3]) * int(prod_details[2]))\n",
    "                print(\"-----------------------------\")\n",
    "\n",
    "                \n",
    "                file = open(\"Sales.txt\",'a')\n",
    "                sales_details = username+\",\"+phone+\",\"+mail+\",\"+prod_details[1]+\",\"+prod_details[3]+\",\"+str(int(Sell) * int(prod_details[2]))+\",\"+time.ctime()+\"\\n\"\n",
    "                file.write(sales_details)\n",
    "                file.close()\n",
    "                \n",
    "                prod_details[3] = '0'\n",
    "\n",
    "            else:\n",
    "                print(\"Thanks\")\n",
    "            \n",
    "    # Updating my Inventory List\n",
    "    updated_product_lst.append(prod_details)\n",
    "    \n",
    "\n",
    "    \n",
    "lst = []\n",
    "\n",
    "# Updating my Inventory String\n",
    "for i in updated_product_lst:\n",
    "    prod = i[0] +\",\"+  i[1] +\",\"+ i[2] +\",\"+ i[3] + '\\n'\n",
    "    lst.append(prod)\n",
    "\n",
    "    \n",
    "lst[-1] = lst[-1][:-1]\n",
    "    \n",
    "\n",
    "# Updating Inventory File\n",
    "file = open('Inventory.txt','w')\n",
    "\n",
    "for i in lst:\n",
    "    file.write(i)\n",
    "\n",
    "file.close()\n",
    "\n",
    "\n",
    "print(\"Inventory Updated\")"
   ]
  },
  {
   "cell_type": "code",
   "execution_count": null,
   "id": "c1ab09d9",
   "metadata": {},
   "outputs": [],
   "source": []
  }
 ],
 "metadata": {
  "kernelspec": {
   "display_name": "Python 3 (ipykernel)",
   "language": "python",
   "name": "python3"
  },
  "language_info": {
   "codemirror_mode": {
    "name": "ipython",
    "version": 3
   },
   "file_extension": ".py",
   "mimetype": "text/x-python",
   "name": "python",
   "nbconvert_exporter": "python",
   "pygments_lexer": "ipython3",
   "version": "3.9.12"
  }
 },
 "nbformat": 4,
 "nbformat_minor": 5
}
